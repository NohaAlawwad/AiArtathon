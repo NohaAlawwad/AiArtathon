{
  "nbformat": 4,
  "nbformat_minor": 0,
  "metadata": {
    "anaconda-cloud": {},
    "kernelspec": {
      "display_name": "Python 3.7 (tensorflow)",
      "language": "python",
      "name": "tensorflow"
    },
    "language_info": {
      "codemirror_mode": {
        "name": "ipython",
        "version": 3
      },
      "file_extension": ".py",
      "mimetype": "text/x-python",
      "name": "python",
      "nbconvert_exporter": "python",
      "pygments_lexer": "ipython3",
      "version": "3.7.5"
    },
    "colab": {
      "name": "03_AiArtathon.ipynb",
      "provenance": [],
      "collapsed_sections": []
    },
    "accelerator": "GPU"
  },
  "cells": [
    {
      "cell_type": "markdown",
      "metadata": {
        "id": "L2fejML3tCfv",
        "colab_type": "text"
      },
      "source": [
        "<a href=\"https://colab.research.google.com/github/jeffheaton/t81_558_deep_learning/blob/master/t81_558_class_07_3_style_gan.ipynb\" target=\"_parent\"><img src=\"https://colab.research.google.com/assets/colab-badge.svg\" alt=\"Open In Colab\"/></a>"
      ]
    },
    {
      "cell_type": "markdown",
      "metadata": {
        "id": "GxAphxWhJ8Qo",
        "colab_type": "text"
      },
      "source": [
        "#Step1:"
      ]
    },
    {
      "cell_type": "markdown",
      "metadata": {
        "id": "IWl5ywCjtCf5",
        "colab_type": "text"
      },
      "source": [
        "### Generating High Rez GAN Faces with Google CoLab\n",
        "\n",
        "This notebook demonstrates how to run [NVidia StyleGAN2](https://github.com/NVlabs/stylegan) inside of a Google CoLab notebook.  I suggest you use this to generate GAN faces from a pretrained model.  If you try to train your own, you will run into compute limitations of Google CoLab.\n",
        "\n",
        "Make sure to run this code on a GPU instance.  GPU is assumed.\n",
        "\n",
        "First, map your G-Drive, this is where your GANs will be written to."
      ]
    },
    {
      "cell_type": "code",
      "metadata": {
        "id": "w2dEcHb9tCf6",
        "colab_type": "code",
        "outputId": "d520720e-48e1-4112-a5c2-72457ecad017",
        "colab": {
          "base_uri": "https://localhost:8080/",
          "height": 122
        }
      },
      "source": [
        "# Run this for Google CoLab (use TensorFlow 1.x)\n",
        "%tensorflow_version 1.x\n",
        "from google.colab import drive\n",
        "drive.mount('/content/drive', force_remount=True)"
      ],
      "execution_count": 0,
      "outputs": [
        {
          "output_type": "stream",
          "text": [
            "Go to this URL in a browser: https://accounts.google.com/o/oauth2/auth?client_id=947318989803-6bn6qk8qdgf4n4g3pfee6491hc0brc4i.apps.googleusercontent.com&redirect_uri=urn%3aietf%3awg%3aoauth%3a2.0%3aoob&response_type=code&scope=email%20https%3a%2f%2fwww.googleapis.com%2fauth%2fdocs.test%20https%3a%2f%2fwww.googleapis.com%2fauth%2fdrive%20https%3a%2f%2fwww.googleapis.com%2fauth%2fdrive.photos.readonly%20https%3a%2f%2fwww.googleapis.com%2fauth%2fpeopleapi.readonly\n",
            "\n",
            "Enter your authorization code:\n",
            "··········\n",
            "Mounted at /content/drive\n"
          ],
          "name": "stdout"
        }
      ]
    },
    {
      "cell_type": "markdown",
      "metadata": {
        "id": "icRPLmPKtCf_",
        "colab_type": "text"
      },
      "source": [
        "Next, clone StyleGAN2 from GitHub."
      ]
    },
    {
      "cell_type": "code",
      "metadata": {
        "id": "tB0TryzptCf_",
        "colab_type": "code",
        "outputId": "1f941bb7-aba1-454f-bee2-ac7501f75a12",
        "colab": {
          "base_uri": "https://localhost:8080/",
          "height": 85
        }
      },
      "source": [
        "!git clone https://github.com/NVlabs/stylegan2.git"
      ],
      "execution_count": 0,
      "outputs": [
        {
          "output_type": "stream",
          "text": [
            "Cloning into 'stylegan2'...\n",
            "remote: Enumerating objects: 88, done.\u001b[K\n",
            "remote: Total 88 (delta 0), reused 0 (delta 0), pack-reused 88\u001b[K\n",
            "Unpacking objects: 100% (88/88), done.\n"
          ],
          "name": "stdout"
        }
      ]
    },
    {
      "cell_type": "markdown",
      "metadata": {
        "id": "s1Sh0xmOtCgC",
        "colab_type": "text"
      },
      "source": [
        "Verify that StyleGAN has been cloned."
      ]
    },
    {
      "cell_type": "code",
      "metadata": {
        "id": "wewBEme5tCgD",
        "colab_type": "code",
        "outputId": "6f56b745-85b4-452f-840f-032a023f1776",
        "colab": {
          "base_uri": "https://localhost:8080/",
          "height": 85
        }
      },
      "source": [
        "!ls /content/stylegan2/"
      ],
      "execution_count": 0,
      "outputs": [
        {
          "output_type": "stream",
          "text": [
            "dataset_tool.py  LICENSE.txt\t\t README.md\t   run_training.py\n",
            "dnnlib\t\t metrics\t\t run_generator.py  test_nvcc.cu\n",
            "Dockerfile\t pretrained_networks.py  run_metrics.py    training\n",
            "docs\t\t projector.py\t\t run_projector.py\n"
          ],
          "name": "stdout"
        }
      ]
    },
    {
      "cell_type": "markdown",
      "metadata": {
        "id": "e4WrIU6F3Iwe",
        "colab_type": "text"
      },
      "source": [
        "# Run StyleGan2 From Command Line"
      ]
    },
    {
      "cell_type": "markdown",
      "metadata": {
        "id": "GQGFXRI0tCgG",
        "colab_type": "text"
      },
      "source": [
        "Add the StyleGAN folder to Python so that you can import it.  The code below is based on code from NVidia. This actually generates your images."
      ]
    },
    {
      "cell_type": "code",
      "metadata": {
        "id": "Wn_lpC_p-4ag",
        "colab_type": "code",
        "outputId": "8cdf716d-a2a9-43ac-8acb-32d1c2e2e074",
        "colab": {
          "base_uri": "https://localhost:8080/",
          "height": 578
        }
      },
      "source": [
        "!python /content/stylegan2/run_generator.py generate-images --network=gdrive:networks/stylegan2-ffhq-config-f.pkl \\\n",
        "  --seeds=6600-6625 --truncation-psi=0.5"
      ],
      "execution_count": 0,
      "outputs": [
        {
          "output_type": "stream",
          "text": [
            "Local submit - run_dir: results/00000-generate-images\n",
            "dnnlib: Running run_generator.generate_images() on localhost...\n",
            "Loading networks from \"gdrive:networks/stylegan2-ffhq-config-f.pkl\"...\n",
            "Downloading http://d36zk2xti64re0.cloudfront.net/stylegan2/networks/stylegan2-ffhq-config-f.pkl ... done\n",
            "Setting up TensorFlow plugin \"fused_bias_act.cu\": Preprocessing... Compiling... Loading... Done.\n",
            "Setting up TensorFlow plugin \"upfirdn_2d.cu\": Preprocessing... Compiling... Loading... Done.\n",
            "Generating image for seed 6600 (0/26) ...\n",
            "Generating image for seed 6601 (1/26) ...\n",
            "Generating image for seed 6602 (2/26) ...\n",
            "Generating image for seed 6603 (3/26) ...\n",
            "Generating image for seed 6604 (4/26) ...\n",
            "Generating image for seed 6605 (5/26) ...\n",
            "Generating image for seed 6606 (6/26) ...\n",
            "Generating image for seed 6607 (7/26) ...\n",
            "Generating image for seed 6608 (8/26) ...\n",
            "Generating image for seed 6609 (9/26) ...\n",
            "Generating image for seed 6610 (10/26) ...\n",
            "Generating image for seed 6611 (11/26) ...\n",
            "Generating image for seed 6612 (12/26) ...\n",
            "Generating image for seed 6613 (13/26) ...\n",
            "Generating image for seed 6614 (14/26) ...\n",
            "Generating image for seed 6615 (15/26) ...\n",
            "Generating image for seed 6616 (16/26) ...\n",
            "Generating image for seed 6617 (17/26) ...\n",
            "Generating image for seed 6618 (18/26) ...\n",
            "Generating image for seed 6619 (19/26) ...\n",
            "Generating image for seed 6620 (20/26) ...\n",
            "Generating image for seed 6621 (21/26) ...\n",
            "Generating image for seed 6622 (22/26) ...\n",
            "Generating image for seed 6623 (23/26) ...\n",
            "Generating image for seed 6624 (24/26) ...\n",
            "Generating image for seed 6625 (25/26) ...\n",
            "dnnlib: Finished run_generator.generate_images() in 1m 28s.\n"
          ],
          "name": "stdout"
        }
      ]
    },
    {
      "cell_type": "code",
      "metadata": {
        "id": "UnrUF5L1_3UI",
        "colab_type": "code",
        "outputId": "c319d5b6-376e-437f-bf54-8a936a4bc2d4",
        "colab": {
          "base_uri": "https://localhost:8080/",
          "height": 136
        }
      },
      "source": [
        "!ls /content/results/00000-generate-images"
      ],
      "execution_count": 0,
      "outputs": [
        {
          "output_type": "stream",
          "text": [
            "_finished.txt  seed6604.png  seed6611.png  seed6618.png  seed6625.png\n",
            "log.txt        seed6605.png  seed6612.png  seed6619.png  submit_config.pkl\n",
            "run.txt        seed6606.png  seed6613.png  seed6620.png  submit_config.txt\n",
            "seed6600.png   seed6607.png  seed6614.png  seed6621.png\n",
            "seed6601.png   seed6608.png  seed6615.png  seed6622.png\n",
            "seed6602.png   seed6609.png  seed6616.png  seed6623.png\n",
            "seed6603.png   seed6610.png  seed6617.png  seed6624.png\n"
          ],
          "name": "stdout"
        }
      ]
    },
    {
      "cell_type": "code",
      "metadata": {
        "id": "3rh5faG6AOFA",
        "colab_type": "code",
        "colab": {}
      },
      "source": [
        "cp /content/results/00000-generate-images/* /content/drive/My\\ Drive/projects/stylegan2"
      ],
      "execution_count": 0,
      "outputs": []
    },
    {
      "cell_type": "code",
      "metadata": {
        "id": "U9YXGHyRE7aH",
        "colab_type": "code",
        "outputId": "1d0ae1a8-a785-4937-e9ea-d0abcb2d8025",
        "colab": {
          "base_uri": "https://localhost:8080/",
          "height": 204
        }
      },
      "source": [
        "!python /content/stylegan2/run_generator.py style-mixing-example --network=gdrive:networks/stylegan2-ffhq-config-f.pkl \\\n",
        "  --row-seeds=85,100,75,458,1500 --col-seeds=55,821,1789,293 --truncation-psi=1.0"
      ],
      "execution_count": 0,
      "outputs": [
        {
          "output_type": "stream",
          "text": [
            "Local submit - run_dir: results/00001-style-mixing-example\n",
            "dnnlib: Running run_generator.style_mixing_example() on localhost...\n",
            "Loading networks from \"gdrive:networks/stylegan2-ffhq-config-f.pkl\"...\n",
            "Setting up TensorFlow plugin \"fused_bias_act.cu\": Preprocessing... Loading... Done.\n",
            "Setting up TensorFlow plugin \"upfirdn_2d.cu\": Preprocessing... Loading... Done.\n",
            "Generating W vectors...\n",
            "Generating images...\n",
            "Generating style-mixed images...\n",
            "Saving images...\n",
            "Saving image grid...\n",
            "dnnlib: Finished run_generator.style_mixing_example() in 46s.\n"
          ],
          "name": "stdout"
        }
      ]
    },
    {
      "cell_type": "markdown",
      "metadata": {
        "id": "D92Md-Hw3eVA",
        "colab_type": "text"
      },
      "source": [
        "# Run StyleGAN2 From Python Code\n",
        "\n",
        "Add the StyleGAN folder to Python so that you can import it.  The code below is based on code from NVidia. This actually generates your images."
      ]
    },
    {
      "cell_type": "code",
      "metadata": {
        "id": "UgMm1sSutCgH",
        "colab_type": "code",
        "colab": {}
      },
      "source": [
        "import sys\n",
        "sys.path.insert(0, \"/content/stylegan2\")\n",
        "\n",
        "import dnnlib"
      ],
      "execution_count": 0,
      "outputs": []
    },
    {
      "cell_type": "code",
      "metadata": {
        "id": "yZcFAjaz3mw1",
        "colab_type": "code",
        "outputId": "470cf400-80a6-42b6-8a5c-0463e5e36453",
        "colab": {
          "base_uri": "https://localhost:8080/",
          "height": 374
        }
      },
      "source": [
        "# Copyright (c) 2019, NVIDIA Corporation. All rights reserved.\n",
        "#\n",
        "# This work is made available under the Nvidia Source Code License-NC.\n",
        "# To view a copy of this license, visit\n",
        "# https://nvlabs.github.io/stylegan2/license.html\n",
        "\n",
        "import argparse\n",
        "import numpy as np\n",
        "import PIL.Image\n",
        "import dnnlib\n",
        "import dnnlib.tflib as tflib\n",
        "import re\n",
        "import sys\n",
        "\n",
        "import pretrained_networks\n",
        "\n",
        "#----------------------------------------------------------------------------\n",
        "\n",
        "def expand_seed(seeds, vector_size):\n",
        "  result = []\n",
        "\n",
        "  for seed in seeds:\n",
        "    rnd = np.random.RandomState(seed)\n",
        "    result.append( rnd.randn(1, vector_size) ) \n",
        "  return result\n",
        "\n",
        "def generate_images(Gs, seeds, truncation_psi):\n",
        "    noise_vars = [var for name, var in Gs.components.synthesis.vars.items() if name.startswith('noise')]\n",
        "\n",
        "    Gs_kwargs = dnnlib.EasyDict()\n",
        "    Gs_kwargs.output_transform = dict(func=tflib.convert_images_to_uint8, nchw_to_nhwc=True)\n",
        "    Gs_kwargs.randomize_noise = False\n",
        "    if truncation_psi is not None:\n",
        "        Gs_kwargs.truncation_psi = truncation_psi\n",
        "\n",
        "    for seed_idx, seed in enumerate(seeds):\n",
        "        print('Generating image for seed %d/%d ...' % (seed_idx, len(seeds)))\n",
        "        rnd = np.random.RandomState()\n",
        "        tflib.set_vars({var: rnd.randn(*var.shape.as_list()) for var in noise_vars}) # [height, width]\n",
        "        images = Gs.run(seed, None, **Gs_kwargs) # [minibatch, height, width, channel]\n",
        "        path = f\"/content/drive/My Drive/projects/stylegan2/image{seed_idx}.png\"\n",
        "        PIL.Image.fromarray(images[0], 'RGB').save(path)\n",
        "\n",
        "def main():\n",
        "    sc = dnnlib.SubmitConfig()\n",
        "    sc.num_gpus = 1\n",
        "    sc.submit_target = dnnlib.SubmitTarget.LOCAL\n",
        "    sc.local.do_not_copy_source_files = True\n",
        "    sc.run_dir_root = \"/content/drive/My Drive/projects/stylegan2\"\n",
        "    sc.run_desc = 'generate-images'\n",
        "    network_pkl = 'gdrive:networks/stylegan2-ffhq-config-f.pkl'\n",
        "\n",
        "    print('Loading networks from \"%s\"...' % network_pkl)\n",
        "    _G, _D, Gs = pretrained_networks.load_networks(network_pkl)\n",
        "    vector_size = Gs.input_shape[1:][0]\n",
        "    seeds = expand_seed( range(8000,8020), vector_size)\n",
        "    generate_images(Gs, seeds,truncation_psi=0.5)\n",
        "\n",
        "#----------------------------------------------------------------------------\n",
        "\n",
        "if __name__ == \"__main__\":\n",
        "    main()\n",
        "\n",
        "#----------------------------------------------------------------------------"
      ],
      "execution_count": 0,
      "outputs": [
        {
          "output_type": "stream",
          "text": [
            "Loading networks from \"gdrive:networks/stylegan2-ffhq-config-f.pkl\"...\n",
            "Generating image for seed 0/20 ...\n",
            "Generating image for seed 1/20 ...\n",
            "Generating image for seed 2/20 ...\n",
            "Generating image for seed 3/20 ...\n",
            "Generating image for seed 4/20 ...\n",
            "Generating image for seed 5/20 ...\n",
            "Generating image for seed 6/20 ...\n",
            "Generating image for seed 7/20 ...\n",
            "Generating image for seed 8/20 ...\n",
            "Generating image for seed 9/20 ...\n",
            "Generating image for seed 10/20 ...\n",
            "Generating image for seed 11/20 ...\n",
            "Generating image for seed 12/20 ...\n",
            "Generating image for seed 13/20 ...\n",
            "Generating image for seed 14/20 ...\n",
            "Generating image for seed 15/20 ...\n",
            "Generating image for seed 16/20 ...\n",
            "Generating image for seed 17/20 ...\n",
            "Generating image for seed 18/20 ...\n",
            "Generating image for seed 19/20 ...\n"
          ],
          "name": "stdout"
        }
      ]
    },
    {
      "cell_type": "markdown",
      "metadata": {
        "id": "tYxNRMBIKeOP",
        "colab_type": "text"
      },
      "source": [
        "## Examining the Latent Vector\n",
        "\n",
        "![GAN](https://raw.githubusercontent.com/jeffheaton/t81_558_deep_learning/master/images/gan_progression.png \"GAN\")"
      ]
    },
    {
      "cell_type": "code",
      "metadata": {
        "id": "8jJ8prvsy3am",
        "colab_type": "code",
        "outputId": "2a36ccbd-7cdb-413c-f538-9a7254b914ef",
        "colab": {
          "base_uri": "https://localhost:8080/",
          "height": 51
        }
      },
      "source": [
        "sc = dnnlib.SubmitConfig()\n",
        "sc.num_gpus = 1\n",
        "sc.submit_target = dnnlib.SubmitTarget.LOCAL\n",
        "sc.local.do_not_copy_source_files = True\n",
        "sc.run_dir_root = \"/content/drive/My Drive/projects/stylegan2\"\n",
        "sc.run_desc = 'generate-images'\n",
        "network_pkl = 'gdrive:networks/stylegan2-ffhq-config-f.pkl'\n",
        "\n",
        "print('Loading networks from \"%s\"...' % network_pkl)\n",
        "_G, _D, Gs = pretrained_networks.load_networks(network_pkl)\n",
        "vector_size = Gs.input_shape[1:][0]\n",
        "# range(8192,8300)\n",
        "seeds = expand_seed( [8192+1,8192+9], vector_size)\n",
        "#generate_images(Gs, seeds,truncation_psi=0.5)\n",
        "print(seeds[0].shape)"
      ],
      "execution_count": 0,
      "outputs": [
        {
          "output_type": "stream",
          "text": [
            "Loading networks from \"gdrive:networks/stylegan2-ffhq-config-f.pkl\"...\n",
            "(1, 512)\n"
          ],
          "name": "stdout"
        }
      ]
    },
    {
      "cell_type": "code",
      "metadata": {
        "id": "7sUD8c5JCfkg",
        "colab_type": "code",
        "outputId": "7b26aff1-81f8-4940-960b-700d86f1f4df",
        "colab": {
          "base_uri": "https://localhost:8080/",
          "height": 1000
        }
      },
      "source": [
        "# 8192+1,8192+9\n",
        "\n",
        "STEPS = 300\n",
        "diff = seeds[1] - seeds[0]\n",
        "step = diff / STEPS\n",
        "current = seeds[0].copy()\n",
        "\n",
        "seeds2 = []\n",
        "for i in range(STEPS):\n",
        "  seeds2.append(current)\n",
        "  current = current + step\n",
        "\n",
        "generate_images(Gs, seeds2,truncation_psi=0.5)"
      ],
      "execution_count": 0,
      "outputs": [
        {
          "output_type": "stream",
          "text": [
            "Generating image for seed 0/300 ...\n",
            "Generating image for seed 1/300 ...\n",
            "Generating image for seed 2/300 ...\n",
            "Generating image for seed 3/300 ...\n",
            "Generating image for seed 4/300 ...\n",
            "Generating image for seed 5/300 ...\n",
            "Generating image for seed 6/300 ...\n",
            "Generating image for seed 7/300 ...\n",
            "Generating image for seed 8/300 ...\n",
            "Generating image for seed 9/300 ...\n",
            "Generating image for seed 10/300 ...\n",
            "Generating image for seed 11/300 ...\n",
            "Generating image for seed 12/300 ...\n",
            "Generating image for seed 13/300 ...\n",
            "Generating image for seed 14/300 ...\n",
            "Generating image for seed 15/300 ...\n",
            "Generating image for seed 16/300 ...\n",
            "Generating image for seed 17/300 ...\n",
            "Generating image for seed 18/300 ...\n",
            "Generating image for seed 19/300 ...\n",
            "Generating image for seed 20/300 ...\n",
            "Generating image for seed 21/300 ...\n",
            "Generating image for seed 22/300 ...\n",
            "Generating image for seed 23/300 ...\n",
            "Generating image for seed 24/300 ...\n",
            "Generating image for seed 25/300 ...\n",
            "Generating image for seed 26/300 ...\n",
            "Generating image for seed 27/300 ...\n",
            "Generating image for seed 28/300 ...\n",
            "Generating image for seed 29/300 ...\n",
            "Generating image for seed 30/300 ...\n",
            "Generating image for seed 31/300 ...\n",
            "Generating image for seed 32/300 ...\n",
            "Generating image for seed 33/300 ...\n",
            "Generating image for seed 34/300 ...\n",
            "Generating image for seed 35/300 ...\n",
            "Generating image for seed 36/300 ...\n",
            "Generating image for seed 37/300 ...\n",
            "Generating image for seed 38/300 ...\n",
            "Generating image for seed 39/300 ...\n",
            "Generating image for seed 40/300 ...\n",
            "Generating image for seed 41/300 ...\n",
            "Generating image for seed 42/300 ...\n",
            "Generating image for seed 43/300 ...\n",
            "Generating image for seed 44/300 ...\n",
            "Generating image for seed 45/300 ...\n",
            "Generating image for seed 46/300 ...\n",
            "Generating image for seed 47/300 ...\n",
            "Generating image for seed 48/300 ...\n",
            "Generating image for seed 49/300 ...\n",
            "Generating image for seed 50/300 ...\n",
            "Generating image for seed 51/300 ...\n",
            "Generating image for seed 52/300 ...\n",
            "Generating image for seed 53/300 ...\n",
            "Generating image for seed 54/300 ...\n",
            "Generating image for seed 55/300 ...\n",
            "Generating image for seed 56/300 ...\n",
            "Generating image for seed 57/300 ...\n",
            "Generating image for seed 58/300 ...\n",
            "Generating image for seed 59/300 ...\n",
            "Generating image for seed 60/300 ...\n",
            "Generating image for seed 61/300 ...\n",
            "Generating image for seed 62/300 ...\n",
            "Generating image for seed 63/300 ...\n",
            "Generating image for seed 64/300 ...\n",
            "Generating image for seed 65/300 ...\n",
            "Generating image for seed 66/300 ...\n",
            "Generating image for seed 67/300 ...\n",
            "Generating image for seed 68/300 ...\n",
            "Generating image for seed 69/300 ...\n",
            "Generating image for seed 70/300 ...\n",
            "Generating image for seed 71/300 ...\n",
            "Generating image for seed 72/300 ...\n",
            "Generating image for seed 73/300 ...\n",
            "Generating image for seed 74/300 ...\n",
            "Generating image for seed 75/300 ...\n",
            "Generating image for seed 76/300 ...\n",
            "Generating image for seed 77/300 ...\n",
            "Generating image for seed 78/300 ...\n",
            "Generating image for seed 79/300 ...\n",
            "Generating image for seed 80/300 ...\n",
            "Generating image for seed 81/300 ...\n",
            "Generating image for seed 82/300 ...\n",
            "Generating image for seed 83/300 ...\n",
            "Generating image for seed 84/300 ...\n",
            "Generating image for seed 85/300 ...\n",
            "Generating image for seed 86/300 ...\n",
            "Generating image for seed 87/300 ...\n",
            "Generating image for seed 88/300 ...\n",
            "Generating image for seed 89/300 ...\n",
            "Generating image for seed 90/300 ...\n",
            "Generating image for seed 91/300 ...\n",
            "Generating image for seed 92/300 ...\n",
            "Generating image for seed 93/300 ...\n",
            "Generating image for seed 94/300 ...\n",
            "Generating image for seed 95/300 ...\n",
            "Generating image for seed 96/300 ...\n",
            "Generating image for seed 97/300 ...\n",
            "Generating image for seed 98/300 ...\n",
            "Generating image for seed 99/300 ...\n",
            "Generating image for seed 100/300 ...\n",
            "Generating image for seed 101/300 ...\n",
            "Generating image for seed 102/300 ...\n",
            "Generating image for seed 103/300 ...\n",
            "Generating image for seed 104/300 ...\n",
            "Generating image for seed 105/300 ...\n",
            "Generating image for seed 106/300 ...\n",
            "Generating image for seed 107/300 ...\n",
            "Generating image for seed 108/300 ...\n",
            "Generating image for seed 109/300 ...\n",
            "Generating image for seed 110/300 ...\n",
            "Generating image for seed 111/300 ...\n",
            "Generating image for seed 112/300 ...\n",
            "Generating image for seed 113/300 ...\n",
            "Generating image for seed 114/300 ...\n",
            "Generating image for seed 115/300 ...\n",
            "Generating image for seed 116/300 ...\n",
            "Generating image for seed 117/300 ...\n",
            "Generating image for seed 118/300 ...\n",
            "Generating image for seed 119/300 ...\n",
            "Generating image for seed 120/300 ...\n",
            "Generating image for seed 121/300 ...\n",
            "Generating image for seed 122/300 ...\n",
            "Generating image for seed 123/300 ...\n",
            "Generating image for seed 124/300 ...\n",
            "Generating image for seed 125/300 ...\n",
            "Generating image for seed 126/300 ...\n",
            "Generating image for seed 127/300 ...\n",
            "Generating image for seed 128/300 ...\n",
            "Generating image for seed 129/300 ...\n",
            "Generating image for seed 130/300 ...\n",
            "Generating image for seed 131/300 ...\n",
            "Generating image for seed 132/300 ...\n",
            "Generating image for seed 133/300 ...\n",
            "Generating image for seed 134/300 ...\n",
            "Generating image for seed 135/300 ...\n",
            "Generating image for seed 136/300 ...\n",
            "Generating image for seed 137/300 ...\n",
            "Generating image for seed 138/300 ...\n",
            "Generating image for seed 139/300 ...\n",
            "Generating image for seed 140/300 ...\n",
            "Generating image for seed 141/300 ...\n",
            "Generating image for seed 142/300 ...\n",
            "Generating image for seed 143/300 ...\n",
            "Generating image for seed 144/300 ...\n",
            "Generating image for seed 145/300 ...\n",
            "Generating image for seed 146/300 ...\n",
            "Generating image for seed 147/300 ...\n",
            "Generating image for seed 148/300 ...\n",
            "Generating image for seed 149/300 ...\n",
            "Generating image for seed 150/300 ...\n",
            "Generating image for seed 151/300 ...\n",
            "Generating image for seed 152/300 ...\n",
            "Generating image for seed 153/300 ...\n",
            "Generating image for seed 154/300 ...\n",
            "Generating image for seed 155/300 ...\n",
            "Generating image for seed 156/300 ...\n",
            "Generating image for seed 157/300 ...\n",
            "Generating image for seed 158/300 ...\n",
            "Generating image for seed 159/300 ...\n",
            "Generating image for seed 160/300 ...\n",
            "Generating image for seed 161/300 ...\n",
            "Generating image for seed 162/300 ...\n",
            "Generating image for seed 163/300 ...\n",
            "Generating image for seed 164/300 ...\n",
            "Generating image for seed 165/300 ...\n",
            "Generating image for seed 166/300 ...\n",
            "Generating image for seed 167/300 ...\n",
            "Generating image for seed 168/300 ...\n",
            "Generating image for seed 169/300 ...\n",
            "Generating image for seed 170/300 ...\n",
            "Generating image for seed 171/300 ...\n",
            "Generating image for seed 172/300 ...\n",
            "Generating image for seed 173/300 ...\n",
            "Generating image for seed 174/300 ...\n",
            "Generating image for seed 175/300 ...\n",
            "Generating image for seed 176/300 ...\n",
            "Generating image for seed 177/300 ...\n",
            "Generating image for seed 178/300 ...\n",
            "Generating image for seed 179/300 ...\n",
            "Generating image for seed 180/300 ...\n",
            "Generating image for seed 181/300 ...\n",
            "Generating image for seed 182/300 ...\n",
            "Generating image for seed 183/300 ...\n",
            "Generating image for seed 184/300 ...\n",
            "Generating image for seed 185/300 ...\n",
            "Generating image for seed 186/300 ...\n",
            "Generating image for seed 187/300 ...\n",
            "Generating image for seed 188/300 ...\n",
            "Generating image for seed 189/300 ...\n",
            "Generating image for seed 190/300 ...\n",
            "Generating image for seed 191/300 ...\n",
            "Generating image for seed 192/300 ...\n",
            "Generating image for seed 193/300 ...\n",
            "Generating image for seed 194/300 ...\n",
            "Generating image for seed 195/300 ...\n",
            "Generating image for seed 196/300 ...\n",
            "Generating image for seed 197/300 ...\n",
            "Generating image for seed 198/300 ...\n",
            "Generating image for seed 199/300 ...\n",
            "Generating image for seed 200/300 ...\n",
            "Generating image for seed 201/300 ...\n",
            "Generating image for seed 202/300 ...\n",
            "Generating image for seed 203/300 ...\n",
            "Generating image for seed 204/300 ...\n",
            "Generating image for seed 205/300 ...\n",
            "Generating image for seed 206/300 ...\n",
            "Generating image for seed 207/300 ...\n",
            "Generating image for seed 208/300 ...\n",
            "Generating image for seed 209/300 ...\n",
            "Generating image for seed 210/300 ...\n",
            "Generating image for seed 211/300 ...\n",
            "Generating image for seed 212/300 ...\n",
            "Generating image for seed 213/300 ...\n",
            "Generating image for seed 214/300 ...\n",
            "Generating image for seed 215/300 ...\n",
            "Generating image for seed 216/300 ...\n",
            "Generating image for seed 217/300 ...\n",
            "Generating image for seed 218/300 ...\n",
            "Generating image for seed 219/300 ...\n",
            "Generating image for seed 220/300 ...\n",
            "Generating image for seed 221/300 ...\n",
            "Generating image for seed 222/300 ...\n",
            "Generating image for seed 223/300 ...\n",
            "Generating image for seed 224/300 ...\n",
            "Generating image for seed 225/300 ...\n",
            "Generating image for seed 226/300 ...\n",
            "Generating image for seed 227/300 ...\n",
            "Generating image for seed 228/300 ...\n",
            "Generating image for seed 229/300 ...\n",
            "Generating image for seed 230/300 ...\n",
            "Generating image for seed 231/300 ...\n",
            "Generating image for seed 232/300 ...\n",
            "Generating image for seed 233/300 ...\n",
            "Generating image for seed 234/300 ...\n",
            "Generating image for seed 235/300 ...\n",
            "Generating image for seed 236/300 ...\n",
            "Generating image for seed 237/300 ...\n",
            "Generating image for seed 238/300 ...\n",
            "Generating image for seed 239/300 ...\n",
            "Generating image for seed 240/300 ...\n",
            "Generating image for seed 241/300 ...\n",
            "Generating image for seed 242/300 ...\n",
            "Generating image for seed 243/300 ...\n",
            "Generating image for seed 244/300 ...\n",
            "Generating image for seed 245/300 ...\n",
            "Generating image for seed 246/300 ...\n",
            "Generating image for seed 247/300 ...\n",
            "Generating image for seed 248/300 ...\n",
            "Generating image for seed 249/300 ...\n",
            "Generating image for seed 250/300 ...\n",
            "Generating image for seed 251/300 ...\n",
            "Generating image for seed 252/300 ...\n",
            "Generating image for seed 253/300 ...\n",
            "Generating image for seed 254/300 ...\n",
            "Generating image for seed 255/300 ...\n",
            "Generating image for seed 256/300 ...\n",
            "Generating image for seed 257/300 ...\n",
            "Generating image for seed 258/300 ...\n",
            "Generating image for seed 259/300 ...\n",
            "Generating image for seed 260/300 ...\n",
            "Generating image for seed 261/300 ...\n",
            "Generating image for seed 262/300 ...\n",
            "Generating image for seed 263/300 ...\n",
            "Generating image for seed 264/300 ...\n",
            "Generating image for seed 265/300 ...\n",
            "Generating image for seed 266/300 ...\n",
            "Generating image for seed 267/300 ...\n",
            "Generating image for seed 268/300 ...\n",
            "Generating image for seed 269/300 ...\n",
            "Generating image for seed 270/300 ...\n",
            "Generating image for seed 271/300 ...\n",
            "Generating image for seed 272/300 ...\n",
            "Generating image for seed 273/300 ...\n",
            "Generating image for seed 274/300 ...\n",
            "Generating image for seed 275/300 ...\n",
            "Generating image for seed 276/300 ...\n",
            "Generating image for seed 277/300 ...\n",
            "Generating image for seed 278/300 ...\n",
            "Generating image for seed 279/300 ...\n",
            "Generating image for seed 280/300 ...\n",
            "Generating image for seed 281/300 ...\n",
            "Generating image for seed 282/300 ...\n",
            "Generating image for seed 283/300 ...\n",
            "Generating image for seed 284/300 ...\n",
            "Generating image for seed 285/300 ...\n",
            "Generating image for seed 286/300 ...\n",
            "Generating image for seed 287/300 ...\n",
            "Generating image for seed 288/300 ...\n",
            "Generating image for seed 289/300 ...\n",
            "Generating image for seed 290/300 ...\n",
            "Generating image for seed 291/300 ...\n",
            "Generating image for seed 292/300 ...\n",
            "Generating image for seed 293/300 ...\n",
            "Generating image for seed 294/300 ...\n",
            "Generating image for seed 295/300 ...\n",
            "Generating image for seed 296/300 ...\n",
            "Generating image for seed 297/300 ...\n",
            "Generating image for seed 298/300 ...\n",
            "Generating image for seed 299/300 ...\n"
          ],
          "name": "stdout"
        }
      ]
    },
    {
      "cell_type": "markdown",
      "metadata": {
        "id": "tBzf1mY3Jx__",
        "colab_type": "text"
      },
      "source": [
        "#Step 2:"
      ]
    },
    {
      "cell_type": "markdown",
      "metadata": {
        "id": "EJypXB5UJere",
        "colab_type": "text"
      },
      "source": [
        "# NeuralStyleOnColab"
      ]
    },
    {
      "cell_type": "markdown",
      "metadata": {
        "id": "cYMUIRbDm98r",
        "colab_type": "text"
      },
      "source": [
        "# Download Neural Style Transfer from ldfrancis"
      ]
    },
    {
      "cell_type": "code",
      "metadata": {
        "id": "HXOgeNMW7O3V",
        "colab_type": "code",
        "outputId": "4fb41978-337e-40c1-f11a-8a61bd13aa87",
        "colab": {
          "base_uri": "https://localhost:8080/",
          "height": 170
        }
      },
      "source": [
        "!rm -r ComputerVision NeuralStyleTransfer\n",
        "!git clone https://github.com/ldfrancis/ComputerVision.git\n",
        "!cp -r ComputerVision/NeuralStyleTransfer ."
      ],
      "execution_count": 1,
      "outputs": [
        {
          "output_type": "stream",
          "text": [
            "rm: cannot remove 'ComputerVision': No such file or directory\n",
            "rm: cannot remove 'NeuralStyleTransfer': No such file or directory\n",
            "Cloning into 'ComputerVision'...\n",
            "remote: Enumerating objects: 88, done.\u001b[K\n",
            "remote: Counting objects: 100% (88/88), done.\u001b[K\n",
            "remote: Compressing objects: 100% (71/71), done.\u001b[K\n",
            "remote: Total 691 (delta 28), reused 56 (delta 15), pack-reused 603\u001b[K\n",
            "Receiving objects: 100% (691/691), 33.01 MiB | 52.00 MiB/s, done.\n",
            "Resolving deltas: 100% (309/309), done.\n"
          ],
          "name": "stdout"
        }
      ]
    },
    {
      "cell_type": "markdown",
      "metadata": {
        "id": "v4rB2XGZnPd2",
        "colab_type": "text"
      },
      "source": [
        "# Upload Images Generated from  NVidia StyleGAN2 \n"
      ]
    },
    {
      "cell_type": "code",
      "metadata": {
        "id": "gi-sHF6z7Xkz",
        "colab_type": "code",
        "outputId": "f736cac6-c149-4571-8052-69529d69f67d",
        "colab": {
          "resources": {
            "http://localhost:8080/nbextensions/google.colab/files.js": {
              "data": "Ly8gQ29weXJpZ2h0IDIwMTcgR29vZ2xlIExMQwovLwovLyBMaWNlbnNlZCB1bmRlciB0aGUgQXBhY2hlIExpY2Vuc2UsIFZlcnNpb24gMi4wICh0aGUgIkxpY2Vuc2UiKTsKLy8geW91IG1heSBub3QgdXNlIHRoaXMgZmlsZSBleGNlcHQgaW4gY29tcGxpYW5jZSB3aXRoIHRoZSBMaWNlbnNlLgovLyBZb3UgbWF5IG9idGFpbiBhIGNvcHkgb2YgdGhlIExpY2Vuc2UgYXQKLy8KLy8gICAgICBodHRwOi8vd3d3LmFwYWNoZS5vcmcvbGljZW5zZXMvTElDRU5TRS0yLjAKLy8KLy8gVW5sZXNzIHJlcXVpcmVkIGJ5IGFwcGxpY2FibGUgbGF3IG9yIGFncmVlZCB0byBpbiB3cml0aW5nLCBzb2Z0d2FyZQovLyBkaXN0cmlidXRlZCB1bmRlciB0aGUgTGljZW5zZSBpcyBkaXN0cmlidXRlZCBvbiBhbiAiQVMgSVMiIEJBU0lTLAovLyBXSVRIT1VUIFdBUlJBTlRJRVMgT1IgQ09ORElUSU9OUyBPRiBBTlkgS0lORCwgZWl0aGVyIGV4cHJlc3Mgb3IgaW1wbGllZC4KLy8gU2VlIHRoZSBMaWNlbnNlIGZvciB0aGUgc3BlY2lmaWMgbGFuZ3VhZ2UgZ292ZXJuaW5nIHBlcm1pc3Npb25zIGFuZAovLyBsaW1pdGF0aW9ucyB1bmRlciB0aGUgTGljZW5zZS4KCi8qKgogKiBAZmlsZW92ZXJ2aWV3IEhlbHBlcnMgZm9yIGdvb2dsZS5jb2xhYiBQeXRob24gbW9kdWxlLgogKi8KKGZ1bmN0aW9uKHNjb3BlKSB7CmZ1bmN0aW9uIHNwYW4odGV4dCwgc3R5bGVBdHRyaWJ1dGVzID0ge30pIHsKICBjb25zdCBlbGVtZW50ID0gZG9jdW1lbnQuY3JlYXRlRWxlbWVudCgnc3BhbicpOwogIGVsZW1lbnQudGV4dENvbnRlbnQgPSB0ZXh0OwogIGZvciAoY29uc3Qga2V5IG9mIE9iamVjdC5rZXlzKHN0eWxlQXR0cmlidXRlcykpIHsKICAgIGVsZW1lbnQuc3R5bGVba2V5XSA9IHN0eWxlQXR0cmlidXRlc1trZXldOwogIH0KICByZXR1cm4gZWxlbWVudDsKfQoKLy8gTWF4IG51bWJlciBvZiBieXRlcyB3aGljaCB3aWxsIGJlIHVwbG9hZGVkIGF0IGEgdGltZS4KY29uc3QgTUFYX1BBWUxPQURfU0laRSA9IDEwMCAqIDEwMjQ7Ci8vIE1heCBhbW91bnQgb2YgdGltZSB0byBibG9jayB3YWl0aW5nIGZvciB0aGUgdXNlci4KY29uc3QgRklMRV9DSEFOR0VfVElNRU9VVF9NUyA9IDMwICogMTAwMDsKCmZ1bmN0aW9uIF91cGxvYWRGaWxlcyhpbnB1dElkLCBvdXRwdXRJZCkgewogIGNvbnN0IHN0ZXBzID0gdXBsb2FkRmlsZXNTdGVwKGlucHV0SWQsIG91dHB1dElkKTsKICBjb25zdCBvdXRwdXRFbGVtZW50ID0gZG9jdW1lbnQuZ2V0RWxlbWVudEJ5SWQob3V0cHV0SWQpOwogIC8vIENhY2hlIHN0ZXBzIG9uIHRoZSBvdXRwdXRFbGVtZW50IHRvIG1ha2UgaXQgYXZhaWxhYmxlIGZvciB0aGUgbmV4dCBjYWxsCiAgLy8gdG8gdXBsb2FkRmlsZXNDb250aW51ZSBmcm9tIFB5dGhvbi4KICBvdXRwdXRFbGVtZW50LnN0ZXBzID0gc3RlcHM7CgogIHJldHVybiBfdXBsb2FkRmlsZXNDb250aW51ZShvdXRwdXRJZCk7Cn0KCi8vIFRoaXMgaXMgcm91Z2hseSBhbiBhc3luYyBnZW5lcmF0b3IgKG5vdCBzdXBwb3J0ZWQgaW4gdGhlIGJyb3dzZXIgeWV0KSwKLy8gd2hlcmUgdGhlcmUgYXJlIG11bHRpcGxlIGFzeW5jaHJvbm91cyBzdGVwcyBhbmQgdGhlIFB5dGhvbiBzaWRlIGlzIGdvaW5nCi8vIHRvIHBvbGwgZm9yIGNvbXBsZXRpb24gb2YgZWFjaCBzdGVwLgovLyBUaGlzIHVzZXMgYSBQcm9taXNlIHRvIGJsb2NrIHRoZSBweXRob24gc2lkZSBvbiBjb21wbGV0aW9uIG9mIGVhY2ggc3RlcCwKLy8gdGhlbiBwYXNzZXMgdGhlIHJlc3VsdCBvZiB0aGUgcHJldmlvdXMgc3RlcCBhcyB0aGUgaW5wdXQgdG8gdGhlIG5leHQgc3RlcC4KZnVuY3Rpb24gX3VwbG9hZEZpbGVzQ29udGludWUob3V0cHV0SWQpIHsKICBjb25zdCBvdXRwdXRFbGVtZW50ID0gZG9jdW1lbnQuZ2V0RWxlbWVudEJ5SWQob3V0cHV0SWQpOwogIGNvbnN0IHN0ZXBzID0gb3V0cHV0RWxlbWVudC5zdGVwczsKCiAgY29uc3QgbmV4dCA9IHN0ZXBzLm5leHQob3V0cHV0RWxlbWVudC5sYXN0UHJvbWlzZVZhbHVlKTsKICByZXR1cm4gUHJvbWlzZS5yZXNvbHZlKG5leHQudmFsdWUucHJvbWlzZSkudGhlbigodmFsdWUpID0+IHsKICAgIC8vIENhY2hlIHRoZSBsYXN0IHByb21pc2UgdmFsdWUgdG8gbWFrZSBpdCBhdmFpbGFibGUgdG8gdGhlIG5leHQKICAgIC8vIHN0ZXAgb2YgdGhlIGdlbmVyYXRvci4KICAgIG91dHB1dEVsZW1lbnQubGFzdFByb21pc2VWYWx1ZSA9IHZhbHVlOwogICAgcmV0dXJuIG5leHQudmFsdWUucmVzcG9uc2U7CiAgfSk7Cn0KCi8qKgogKiBHZW5lcmF0b3IgZnVuY3Rpb24gd2hpY2ggaXMgY2FsbGVkIGJldHdlZW4gZWFjaCBhc3luYyBzdGVwIG9mIHRoZSB1cGxvYWQKICogcHJvY2Vzcy4KICogQHBhcmFtIHtzdHJpbmd9IGlucHV0SWQgRWxlbWVudCBJRCBvZiB0aGUgaW5wdXQgZmlsZSBwaWNrZXIgZWxlbWVudC4KICogQHBhcmFtIHtzdHJpbmd9IG91dHB1dElkIEVsZW1lbnQgSUQgb2YgdGhlIG91dHB1dCBkaXNwbGF5LgogKiBAcmV0dXJuIHshSXRlcmFibGU8IU9iamVjdD59IEl0ZXJhYmxlIG9mIG5leHQgc3RlcHMuCiAqLwpmdW5jdGlvbiogdXBsb2FkRmlsZXNTdGVwKGlucHV0SWQsIG91dHB1dElkKSB7CiAgY29uc3QgaW5wdXRFbGVtZW50ID0gZG9jdW1lbnQuZ2V0RWxlbWVudEJ5SWQoaW5wdXRJZCk7CiAgaW5wdXRFbGVtZW50LmRpc2FibGVkID0gZmFsc2U7CgogIGNvbnN0IG91dHB1dEVsZW1lbnQgPSBkb2N1bWVudC5nZXRFbGVtZW50QnlJZChvdXRwdXRJZCk7CiAgb3V0cHV0RWxlbWVudC5pbm5lckhUTUwgPSAnJzsKCiAgY29uc3QgcGlja2VkUHJvbWlzZSA9IG5ldyBQcm9taXNlKChyZXNvbHZlKSA9PiB7CiAgICBpbnB1dEVsZW1lbnQuYWRkRXZlbnRMaXN0ZW5lcignY2hhbmdlJywgKGUpID0+IHsKICAgICAgcmVzb2x2ZShlLnRhcmdldC5maWxlcyk7CiAgICB9KTsKICB9KTsKCiAgY29uc3QgY2FuY2VsID0gZG9jdW1lbnQuY3JlYXRlRWxlbWVudCgnYnV0dG9uJyk7CiAgaW5wdXRFbGVtZW50LnBhcmVudEVsZW1lbnQuYXBwZW5kQ2hpbGQoY2FuY2VsKTsKICBjYW5jZWwudGV4dENvbnRlbnQgPSAnQ2FuY2VsIHVwbG9hZCc7CiAgY29uc3QgY2FuY2VsUHJvbWlzZSA9IG5ldyBQcm9taXNlKChyZXNvbHZlKSA9PiB7CiAgICBjYW5jZWwub25jbGljayA9ICgpID0+IHsKICAgICAgcmVzb2x2ZShudWxsKTsKICAgIH07CiAgfSk7CgogIC8vIENhbmNlbCB1cGxvYWQgaWYgdXNlciBoYXNuJ3QgcGlja2VkIGFueXRoaW5nIGluIHRpbWVvdXQuCiAgY29uc3QgdGltZW91dFByb21pc2UgPSBuZXcgUHJvbWlzZSgocmVzb2x2ZSkgPT4gewogICAgc2V0VGltZW91dCgoKSA9PiB7CiAgICAgIHJlc29sdmUobnVsbCk7CiAgICB9LCBGSUxFX0NIQU5HRV9USU1FT1VUX01TKTsKICB9KTsKCiAgLy8gV2FpdCBmb3IgdGhlIHVzZXIgdG8gcGljayB0aGUgZmlsZXMuCiAgY29uc3QgZmlsZXMgPSB5aWVsZCB7CiAgICBwcm9taXNlOiBQcm9taXNlLnJhY2UoW3BpY2tlZFByb21pc2UsIHRpbWVvdXRQcm9taXNlLCBjYW5jZWxQcm9taXNlXSksCiAgICByZXNwb25zZTogewogICAgICBhY3Rpb246ICdzdGFydGluZycsCiAgICB9CiAgfTsKCiAgaWYgKCFmaWxlcykgewogICAgcmV0dXJuIHsKICAgICAgcmVzcG9uc2U6IHsKICAgICAgICBhY3Rpb246ICdjb21wbGV0ZScsCiAgICAgIH0KICAgIH07CiAgfQoKICBjYW5jZWwucmVtb3ZlKCk7CgogIC8vIERpc2FibGUgdGhlIGlucHV0IGVsZW1lbnQgc2luY2UgZnVydGhlciBwaWNrcyBhcmUgbm90IGFsbG93ZWQuCiAgaW5wdXRFbGVtZW50LmRpc2FibGVkID0gdHJ1ZTsKCiAgZm9yIChjb25zdCBmaWxlIG9mIGZpbGVzKSB7CiAgICBjb25zdCBsaSA9IGRvY3VtZW50LmNyZWF0ZUVsZW1lbnQoJ2xpJyk7CiAgICBsaS5hcHBlbmQoc3BhbihmaWxlLm5hbWUsIHtmb250V2VpZ2h0OiAnYm9sZCd9KSk7CiAgICBsaS5hcHBlbmQoc3BhbigKICAgICAgICBgKCR7ZmlsZS50eXBlIHx8ICduL2EnfSkgLSAke2ZpbGUuc2l6ZX0gYnl0ZXMsIGAgKwogICAgICAgIGBsYXN0IG1vZGlmaWVkOiAkewogICAgICAgICAgICBmaWxlLmxhc3RNb2RpZmllZERhdGUgPyBmaWxlLmxhc3RNb2RpZmllZERhdGUudG9Mb2NhbGVEYXRlU3RyaW5nKCkgOgogICAgICAgICAgICAgICAgICAgICAgICAgICAgICAgICAgICAnbi9hJ30gLSBgKSk7CiAgICBjb25zdCBwZXJjZW50ID0gc3BhbignMCUgZG9uZScpOwogICAgbGkuYXBwZW5kQ2hpbGQocGVyY2VudCk7CgogICAgb3V0cHV0RWxlbWVudC5hcHBlbmRDaGlsZChsaSk7CgogICAgY29uc3QgZmlsZURhdGFQcm9taXNlID0gbmV3IFByb21pc2UoKHJlc29sdmUpID0+IHsKICAgICAgY29uc3QgcmVhZGVyID0gbmV3IEZpbGVSZWFkZXIoKTsKICAgICAgcmVhZGVyLm9ubG9hZCA9IChlKSA9PiB7CiAgICAgICAgcmVzb2x2ZShlLnRhcmdldC5yZXN1bHQpOwogICAgICB9OwogICAgICByZWFkZXIucmVhZEFzQXJyYXlCdWZmZXIoZmlsZSk7CiAgICB9KTsKICAgIC8vIFdhaXQgZm9yIHRoZSBkYXRhIHRvIGJlIHJlYWR5LgogICAgbGV0IGZpbGVEYXRhID0geWllbGQgewogICAgICBwcm9taXNlOiBmaWxlRGF0YVByb21pc2UsCiAgICAgIHJlc3BvbnNlOiB7CiAgICAgICAgYWN0aW9uOiAnY29udGludWUnLAogICAgICB9CiAgICB9OwoKICAgIC8vIFVzZSBhIGNodW5rZWQgc2VuZGluZyB0byBhdm9pZCBtZXNzYWdlIHNpemUgbGltaXRzLiBTZWUgYi82MjExNTY2MC4KICAgIGxldCBwb3NpdGlvbiA9IDA7CiAgICB3aGlsZSAocG9zaXRpb24gPCBmaWxlRGF0YS5ieXRlTGVuZ3RoKSB7CiAgICAgIGNvbnN0IGxlbmd0aCA9IE1hdGgubWluKGZpbGVEYXRhLmJ5dGVMZW5ndGggLSBwb3NpdGlvbiwgTUFYX1BBWUxPQURfU0laRSk7CiAgICAgIGNvbnN0IGNodW5rID0gbmV3IFVpbnQ4QXJyYXkoZmlsZURhdGEsIHBvc2l0aW9uLCBsZW5ndGgpOwogICAgICBwb3NpdGlvbiArPSBsZW5ndGg7CgogICAgICBjb25zdCBiYXNlNjQgPSBidG9hKFN0cmluZy5mcm9tQ2hhckNvZGUuYXBwbHkobnVsbCwgY2h1bmspKTsKICAgICAgeWllbGQgewogICAgICAgIHJlc3BvbnNlOiB7CiAgICAgICAgICBhY3Rpb246ICdhcHBlbmQnLAogICAgICAgICAgZmlsZTogZmlsZS5uYW1lLAogICAgICAgICAgZGF0YTogYmFzZTY0LAogICAgICAgIH0sCiAgICAgIH07CiAgICAgIHBlcmNlbnQudGV4dENvbnRlbnQgPQogICAgICAgICAgYCR7TWF0aC5yb3VuZCgocG9zaXRpb24gLyBmaWxlRGF0YS5ieXRlTGVuZ3RoKSAqIDEwMCl9JSBkb25lYDsKICAgIH0KICB9CgogIC8vIEFsbCBkb25lLgogIHlpZWxkIHsKICAgIHJlc3BvbnNlOiB7CiAgICAgIGFjdGlvbjogJ2NvbXBsZXRlJywKICAgIH0KICB9Owp9CgpzY29wZS5nb29nbGUgPSBzY29wZS5nb29nbGUgfHwge307CnNjb3BlLmdvb2dsZS5jb2xhYiA9IHNjb3BlLmdvb2dsZS5jb2xhYiB8fCB7fTsKc2NvcGUuZ29vZ2xlLmNvbGFiLl9maWxlcyA9IHsKICBfdXBsb2FkRmlsZXMsCiAgX3VwbG9hZEZpbGVzQ29udGludWUsCn07Cn0pKHNlbGYpOwo=",
              "ok": true,
              "headers": [
                [
                  "content-type",
                  "application/javascript"
                ]
              ],
              "status": 200,
              "status_text": ""
            }
          },
          "base_uri": "https://localhost:8080/",
          "height": 252
        }
      },
      "source": [
        "from google.colab import files\n",
        "# Content image generated from NVidia StyleGAN2\n",
        "uploaded = files.upload()\n",
        "path_to_content_image = \"/content/\"+next(iter(uploaded))\n",
        "\n",
        "# Sadu patter as a Style image \n",
        "uploaded = files.upload()\n",
        "path_to_style_image = \"/content/\"+next(iter(uploaded))"
      ],
      "execution_count": 2,
      "outputs": [
        {
          "output_type": "display_data",
          "data": {
            "text/html": [
              "\n",
              "     <input type=\"file\" id=\"files-43972239-8862-43b2-a86c-246de3703792\" name=\"files[]\" multiple disabled />\n",
              "     <output id=\"result-43972239-8862-43b2-a86c-246de3703792\">\n",
              "      Upload widget is only available when the cell has been executed in the\n",
              "      current browser session. Please rerun this cell to enable.\n",
              "      </output>\n",
              "      <script src=\"/nbextensions/google.colab/files.js\"></script> "
            ],
            "text/plain": [
              "<IPython.core.display.HTML object>"
            ]
          },
          "metadata": {
            "tags": []
          }
        },
        {
          "output_type": "error",
          "ename": "StopIteration",
          "evalue": "ignored",
          "traceback": [
            "\u001b[0;31m---------------------------------------------------------------------------\u001b[0m",
            "\u001b[0;31mStopIteration\u001b[0m                             Traceback (most recent call last)",
            "\u001b[0;32m<ipython-input-2-dd794d81c30a>\u001b[0m in \u001b[0;36m<module>\u001b[0;34m()\u001b[0m\n\u001b[1;32m      2\u001b[0m \u001b[0;31m# Content image generated from NVidia StyleGAN2\u001b[0m\u001b[0;34m\u001b[0m\u001b[0;34m\u001b[0m\u001b[0;34m\u001b[0m\u001b[0m\n\u001b[1;32m      3\u001b[0m \u001b[0muploaded\u001b[0m \u001b[0;34m=\u001b[0m \u001b[0mfiles\u001b[0m\u001b[0;34m.\u001b[0m\u001b[0mupload\u001b[0m\u001b[0;34m(\u001b[0m\u001b[0;34m)\u001b[0m\u001b[0;34m\u001b[0m\u001b[0;34m\u001b[0m\u001b[0m\n\u001b[0;32m----> 4\u001b[0;31m \u001b[0mpath_to_content_image\u001b[0m \u001b[0;34m=\u001b[0m \u001b[0;34m\"/content/\"\u001b[0m\u001b[0;34m+\u001b[0m\u001b[0mnext\u001b[0m\u001b[0;34m(\u001b[0m\u001b[0miter\u001b[0m\u001b[0;34m(\u001b[0m\u001b[0muploaded\u001b[0m\u001b[0;34m)\u001b[0m\u001b[0;34m)\u001b[0m\u001b[0;34m\u001b[0m\u001b[0;34m\u001b[0m\u001b[0m\n\u001b[0m\u001b[1;32m      5\u001b[0m \u001b[0;34m\u001b[0m\u001b[0m\n\u001b[1;32m      6\u001b[0m \u001b[0;31m# Sadu patter as a Style image\u001b[0m\u001b[0;34m\u001b[0m\u001b[0;34m\u001b[0m\u001b[0;34m\u001b[0m\u001b[0m\n",
            "\u001b[0;31mStopIteration\u001b[0m: "
          ]
        }
      ]
    },
    {
      "cell_type": "markdown",
      "metadata": {
        "id": "oN-bbs7enTiv",
        "colab_type": "text"
      },
      "source": [
        " # Sitting Parameters "
      ]
    },
    {
      "cell_type": "code",
      "metadata": {
        "id": "uKgtJ2-S7-zR",
        "colab_type": "code",
        "colab": {}
      },
      "source": [
        "IMAGE_HEIGHT = 900 \n",
        "IMAGE_WIDTH = 600 \n",
        "ITERATION = 1000 "
      ],
      "execution_count": 0,
      "outputs": []
    },
    {
      "cell_type": "markdown",
      "metadata": {
        "id": "H-PUST-3niKl",
        "colab_type": "text"
      },
      "source": [
        "# Run Neural Style Transfer"
      ]
    },
    {
      "cell_type": "code",
      "metadata": {
        "id": "zkKUyTf1-_Xn",
        "colab_type": "code",
        "outputId": "9df71f7c-7d94-4083-9a64-d1cd326998fd",
        "colab": {
          "base_uri": "https://localhost:8080/",
          "height": 309
        }
      },
      "source": [
        "from NeuralStyleTransfer import implementNTS as NST\n",
        "\n",
        "NST.setImageDim(IMAGE_WIDTH,IMAGE_HEIGHT)\n",
        "NST.run(ITERATION, style_image=path_to_style_image, content_image=path_to_content_image)"
      ],
      "execution_count": 0,
      "outputs": [
        {
          "output_type": "display_data",
          "data": {
            "text/html": [
              "<p style=\"color: red;\">\n",
              "The default version of TensorFlow in Colab will soon switch to TensorFlow 2.x.<br>\n",
              "We recommend you <a href=\"https://www.tensorflow.org/guide/migrate\" target=\"_blank\">upgrade</a> now \n",
              "or ensure your notebook will continue to use TensorFlow 1.x via the <code>%tensorflow_version 1.x</code> magic:\n",
              "<a href=\"https://colab.research.google.com/notebooks/tensorflow_version.ipynb\" target=\"_blank\">more info</a>.</p>\n"
            ],
            "text/plain": [
              "<IPython.core.display.HTML object>"
            ]
          },
          "metadata": {
            "tags": []
          }
        },
        {
          "output_type": "stream",
          "text": [
            "WARNING:tensorflow:From /content/NeuralStyleTransfer/implementNTS.py:318: The name tf.Session is deprecated. Please use tf.compat.v1.Session instead.\n",
            "\n",
            "downloading...\n",
            "*done*\n",
            "WARNING:tensorflow:From /content/NeuralStyleTransfer/implementNTS.py:204: The name tf.nn.avg_pool is deprecated. Please use tf.nn.avg_pool2d instead.\n",
            "\n",
            "WARNING:tensorflow:From /content/NeuralStyleTransfer/implementNTS.py:333: The name tf.global_variables_initializer is deprecated. Please use tf.compat.v1.global_variables_initializer instead.\n",
            "\n",
            "WARNING:tensorflow:From /content/NeuralStyleTransfer/implementNTS.py:355: The name tf.train.AdamOptimizer is deprecated. Please use tf.compat.v1.train.AdamOptimizer instead.\n",
            "\n",
            "WARNING:tensorflow:From /usr/local/lib/python3.6/dist-packages/tensorflow_core/python/ops/math_grad.py:1375: where (from tensorflow.python.ops.array_ops) is deprecated and will be removed in a future version.\n",
            "Instructions for updating:\n",
            "Use tf.where in 2.0, which has the same broadcast rule as np.where\n"
          ],
          "name": "stdout"
        }
      ]
    },
    {
      "cell_type": "markdown",
      "metadata": {
        "id": "WFsL6VoVnrPO",
        "colab_type": "text"
      },
      "source": [
        "# Display Original Image"
      ]
    },
    {
      "cell_type": "code",
      "metadata": {
        "id": "7QvWg4Pg_YtI",
        "colab_type": "code",
        "outputId": "bdd15985-7091-49f0-a59f-b558eae80ec7",
        "colab": {
          "base_uri": "https://localhost:8080/",
          "height": 218
        }
      },
      "source": [
        "from IPython.display import Image, display\n",
        "display(Image(path_to_content_image, width=IMAGE_WIDTH, height=IMAGE_HEIGHT))\n"
      ],
      "execution_count": 0,
      "outputs": [
        {
          "output_type": "error",
          "ename": "NameError",
          "evalue": "ignored",
          "traceback": [
            "\u001b[0;31m---------------------------------------------------------------------------\u001b[0m",
            "\u001b[0;31mNameError\u001b[0m                                 Traceback (most recent call last)",
            "\u001b[0;32m<ipython-input-4-c72c7069a000>\u001b[0m in \u001b[0;36m<module>\u001b[0;34m()\u001b[0m\n\u001b[1;32m      1\u001b[0m \u001b[0;32mfrom\u001b[0m \u001b[0mIPython\u001b[0m\u001b[0;34m.\u001b[0m\u001b[0mdisplay\u001b[0m \u001b[0;32mimport\u001b[0m \u001b[0mImage\u001b[0m\u001b[0;34m,\u001b[0m \u001b[0mdisplay\u001b[0m\u001b[0;34m\u001b[0m\u001b[0;34m\u001b[0m\u001b[0m\n\u001b[0;32m----> 2\u001b[0;31m \u001b[0mdisplay\u001b[0m\u001b[0;34m(\u001b[0m\u001b[0mImage\u001b[0m\u001b[0;34m(\u001b[0m\u001b[0mpath_to_content_image\u001b[0m\u001b[0;34m,\u001b[0m \u001b[0mwidth\u001b[0m\u001b[0;34m=\u001b[0m\u001b[0mIMAGE_WIDTH\u001b[0m\u001b[0;34m,\u001b[0m \u001b[0mheight\u001b[0m\u001b[0;34m=\u001b[0m\u001b[0mIMAGE_HEIGHT\u001b[0m\u001b[0;34m)\u001b[0m\u001b[0;34m)\u001b[0m\u001b[0;34m\u001b[0m\u001b[0;34m\u001b[0m\u001b[0m\n\u001b[0m\u001b[1;32m      3\u001b[0m \u001b[0mdisplay\u001b[0m\u001b[0;34m(\u001b[0m\u001b[0mImage\u001b[0m\u001b[0;34m(\u001b[0m\u001b[0mpath_to_style_image\u001b[0m\u001b[0;34m,\u001b[0m \u001b[0mwidth\u001b[0m\u001b[0;34m=\u001b[0m\u001b[0mIMAGE_WIDTH\u001b[0m\u001b[0;34m,\u001b[0m \u001b[0mheight\u001b[0m\u001b[0;34m=\u001b[0m\u001b[0mIMAGE_HEIGHT\u001b[0m\u001b[0;34m)\u001b[0m\u001b[0;34m)\u001b[0m\u001b[0;34m\u001b[0m\u001b[0;34m\u001b[0m\u001b[0m\n\u001b[1;32m      4\u001b[0m \u001b[0mdisplay\u001b[0m\u001b[0;34m(\u001b[0m\u001b[0mImage\u001b[0m\u001b[0;34m(\u001b[0m\u001b[0;34m\"/content/NeuralStyleTransfer/output/generated_image.jpg\"\u001b[0m\u001b[0;34m,\u001b[0m \u001b[0mwidth\u001b[0m\u001b[0;34m=\u001b[0m\u001b[0mIMAGE_WIDTH\u001b[0m\u001b[0;34m,\u001b[0m \u001b[0mheight\u001b[0m\u001b[0;34m=\u001b[0m\u001b[0mIMAGE_HEIGHT\u001b[0m\u001b[0;34m)\u001b[0m\u001b[0;34m)\u001b[0m\u001b[0;34m\u001b[0m\u001b[0;34m\u001b[0m\u001b[0m\n",
            "\u001b[0;31mNameError\u001b[0m: name 'IMAGE_WIDTH' is not defined"
          ]
        }
      ]
    },
    {
      "cell_type": "markdown",
      "metadata": {
        "id": "VuVkSS73Dx8A",
        "colab_type": "text"
      },
      "source": [
        "Display Style"
      ]
    },
    {
      "cell_type": "code",
      "metadata": {
        "id": "G4rH-TvgGLXV",
        "colab_type": "code",
        "colab": {}
      },
      "source": [
        "display(Image(path_to_style_image, width=IMAGE_WIDTH, height=IMAGE_HEIGHT))\n"
      ],
      "execution_count": 0,
      "outputs": []
    },
    {
      "cell_type": "markdown",
      "metadata": {
        "id": "G-_mpluXD_g0",
        "colab_type": "text"
      },
      "source": [
        "Display Output Images "
      ]
    },
    {
      "cell_type": "code",
      "metadata": {
        "id": "qKMMUpaLECTA",
        "colab_type": "code",
        "colab": {}
      },
      "source": [
        "display(Image(\"/content/NeuralStyleTransfer/output/generated_image.jpg\", width=IMAGE_WIDTH, height=IMAGE_HEIGHT))"
      ],
      "execution_count": 0,
      "outputs": []
    },
    {
      "cell_type": "code",
      "metadata": {
        "id": "7c3EzVuiGuE_",
        "colab_type": "code",
        "colab": {}
      },
      "source": [
        ""
      ],
      "execution_count": 0,
      "outputs": []
    },
    {
      "cell_type": "code",
      "metadata": {
        "id": "5u710rVoGuHz",
        "colab_type": "code",
        "colab": {}
      },
      "source": [
        ""
      ],
      "execution_count": 0,
      "outputs": []
    },
    {
      "cell_type": "code",
      "metadata": {
        "id": "rgT6slQoGuKb",
        "colab_type": "code",
        "colab": {}
      },
      "source": [
        ""
      ],
      "execution_count": 0,
      "outputs": []
    }
  ]
}